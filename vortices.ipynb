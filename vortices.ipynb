{
 "cells": [
  {
   "cell_type": "code",
   "execution_count": 1,
   "id": "cff6bd66",
   "metadata": {},
   "outputs": [],
   "source": [
    "import numpy as np"
   ]
  },
  {
   "cell_type": "code",
   "execution_count": 5,
   "id": "f2cff458",
   "metadata": {},
   "outputs": [
    {
     "data": {
      "image/png": "[encoded data removed]",
      "text/plain": [
       "<Figure size 720x360 with 1 Axes>"
      ]
     },
     "metadata": {
      "needs_background": "light"
     },
     "output_type": "display_data"
    }
   ],
   "source": [
    "\"\"\"\n",
    "Description\n",
    "\n",
    "@author: Mattias Lazda\n",
    "@collab: Jules Faucher, David Tucci\n",
    "\n",
    "Feb 4, 2022\n",
    "\"\"\"\n",
    "import numpy as np\n",
    "import matplotlib.pyplot as pl\n",
    "\n",
    "# Set number of steps and time step\n",
    "dt = 0.01\n",
    "Nsteps = 100\n",
    "\n",
    "# Setting up initial conditions\n",
    "y_v = np.array([6,6,4,4])\n",
    "x_v = np.array([1,2,1,2])\n",
    "k_v = np.array([1,1,1,1])\n",
    "\n",
    "# Setting up the plot\n",
    "pl.ion()\n",
    "fig, ax = pl.subplots(1,1, figsize=(10,5))\n",
    "# Mark the initial positions of the vortices\n",
    "p, = ax.plot(x_v, y_v, 'k+', markersize=10)"
   ]
  },
  {
   "cell_type": "code",
   "execution_count": 6,
   "id": "40449721",
   "metadata": {},
   "outputs": [],
   "source": [
    "# draw the initial velocity streamline\n",
    "ngrid = 10\n",
    "Y,X = np.mgrid[-ngrid:ngrid:360j, -ngrid:ngrid:360j]"
   ]
  },
  {
   "cell_type": "code",
   "execution_count": 9,
   "id": "1ab5fec4",
   "metadata": {},
   "outputs": [],
   "source": [
    "vel_x = np.zeros(np.shape(X))\n",
    "vel_y = np.zeros(np.shape(Y))"
   ]
  },
  {
   "cell_type": "code",
   "execution_count": null,
   "id": "ee63415a",
   "metadata": {},
   "outputs": [],
   "source": [
    "r_mask = 3\n",
    "\n",
    "for i in range(len(x_v)):\n",
    "    \n",
    "    # Get distance from "
   ]
  }
 ],
 "metadata": {
  "kernelspec": {
   "display_name": "main_env",
   "language": "python",
   "name": "main_env"
  },
  "language_info": {
   "codemirror_mode": {
    "name": "ipython",
    "version": 3
   },
   "file_extension": ".py",
   "mimetype": "text/x-python",
   "name": "python",
   "nbconvert_exporter": "python",
   "pygments_lexer": "ipython3",
   "version": "3.9.5"
  }
 },
 "nbformat": 4,
 "nbformat_minor": 5
}
